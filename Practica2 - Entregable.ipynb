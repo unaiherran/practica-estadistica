{
 "cells": [
  {
   "cell_type": "markdown",
   "metadata": {},
   "source": [
    "# Introducción\n",
    "\n",
    "En esta práctica vamos a repasar diferentes tests estadísticos. Para ello nos ayudamos de los datos publicados por BCSC:\n",
    "*NCI-funded Breast Cancer Surveillance Consortium (P01 CA154292 and HHSN261201100031C). Downloaded mm/dd/yyyy from the Breast Cancer Surveillance Consortium Web site - http://www.bcsc-research.org/data/index.html.*\n",
    "\n",
    "Concretamente a través de este enlace:\n",
    "http://www.bcsc-research.org/data/rf/app2/DownloadRequest.aspx\n",
    "\n",
    "\n",
    "El fichero *BCSC_risk_factors_summarized.csv* descargado lo teneis en la carpeta *data*.\n",
    "\n",
    "Ese fichero es un CSV, la descripción de cada columna se puede ver en la siguiente tabla:"
   ]
  },
  {
   "cell_type": "markdown",
   "metadata": {},
   "source": [
    "\n",
    "| Nombre de variable | Descripción | Código | \n",
    "|-|-|-|\n",
    "| year | Año de la observación | Numérico, 2000-2009 |\n",
    "| year_group_5_years| Edad (años) en grupos de 5 años |  1 = Edad 18-29;  2 = Edad 30-34; 3 = Edad 35-39; 4 = Edad 40-44; 5 = Edad 45-49; 6 = Edad 50-54; 7 = Edad 55-59; 8 = Edad 60-64; 9 = Edad 65-69; 10 = Edad 70-74; 11 = Edad 75-79; 12 = Edad 80-84; 13 = Edad ≥85 |\n",
    "| race_eth | Grupo étnico | 1 = Non-Hispanic white; 2 = Non-Hispanic black; 3 = Asian/Pacific Islander; 4 = Native American; 5 = Hispanic; 6 = Other/mixed; 9 = Desconocido |\n",
    "| first_degree_hx | Historial de cancer de un familiar de primer grado | 0 = No; 1 = Sí; 9 = Desconocido |\n",
    "| Edad_menarche | Edad (años) at menarche |0 = Edad ≥14; 1 = Edad 12-13; 2 = Edad <12; 9 = Desconocido\n",
    "| Edad_first_birth | Edad (años) at first birth | 0 = Edad < 20; 1 = Edad 20-24; 2 = Edad 25-29; 3 = Edad ≥30; 4 = Nulliparous; 9 = Desconocido |\n",
    "| BIRADS_breast_density | BI-RADS densidad del cancer de pecho| 1 = Almost entirely fat; 2 =Scattered fibroglandular densities; 3 = Heterogeneously dense; 4 = Extremely dense; 9 = Desconocido |\n",
    "| current_hrt | Uso de terapia de hormonas de reemplazo | 0 = No; 1 = Sí; 9 = Desconocido |\n",
    "| menopaus | Menopausal status | 1 = Pre- or peri-menopausal; 2 = Post-menopausal; 3 = Surgical menopause; 9 = Desconocido |\n",
    "| bmi_group |  Body mass index | 1 = 10-24.99; 2 = 25-29.99; 3 = 30-34.99; 4 = 35 or more; 9 = Desconocido |\n",
    "| biophx | Biopsia previa o aspiración | 0 = No; 1 = Sí; 9 = Desconocido |\n",
    "| breast_cancer_history | Cancer diagnosticado con anterioridad | 0 = No; 1 = Sí; 9 = Desconocido |\n",
    "| count | Número de ocurrencias de estas covariables | Numérico|\n",
    "\n",
    "\n"
   ]
  },
  {
   "cell_type": "markdown",
   "metadata": {},
   "source": [
    "Leemos los datos del csv y los adaptamos. Pasos a seguir:\n",
    "1. Replicamos las filas indicadas por la columna *count*\n",
    "2. Los datos son muy grandes, para agilizar la práctica nos quedamos con 5000 muestras elegidas con muestreo aleatorio simple. El resto se puede descartar.\n",
    "3. Se adapta el resto"
   ]
  },
  {
   "cell_type": "code",
   "execution_count": 1,
   "metadata": {},
   "outputs": [],
   "source": [
    "riskFactors<-read.csv(\"./datos/BCSC_risk_factors_summarized.csv\", sep = \",\")"
   ]
  },
  {
   "cell_type": "code",
   "execution_count": 2,
   "metadata": {},
   "outputs": [
    {
     "name": "stderr",
     "output_type": "stream",
     "text": [
      "Warning message in rep(rownames(riskFactors), each = riskFactors$count):\n",
      "“first element used of 'each' argument”"
     ]
    }
   ],
   "source": [
    "# cogemos el nombre de las filas del datset, repitiendo segun el count y\n",
    "# lo ponemos en un vector\n",
    "indexDeRiskFactors <- rep(rownames(riskFactors),each=riskFactors$count)"
   ]
  },
  {
   "cell_type": "code",
   "execution_count": 3,
   "metadata": {},
   "outputs": [],
   "source": [
    "#Definimos una semilla común para todos:\n",
    "set.seed(12345)\n",
    "#Utiliza muestreo aleatorio simple para quedarnos con 5000 muestras:\n",
    "n <- 5000\n",
    "# hacemos un muestreo de 5000 muestras de el vector de indices\n",
    "\n",
    "sampleIndexDeRiskFactor <- sample(indexDeRiskFactors, n)"
   ]
  },
  {
   "cell_type": "code",
   "execution_count": 4,
   "metadata": {},
   "outputs": [],
   "source": [
    "#cogemos los datos del dataframe que nos indica el muestreo\n",
    "riskFactor <- riskFactors[sampleIndexDeRiskFactor,]\n"
   ]
  },
  {
   "cell_type": "markdown",
   "metadata": {},
   "source": []
  },
  {
   "cell_type": "markdown",
   "metadata": {},
   "source": [
    "El número de filas tras replicar las filas indicadas por la columna *count* es de 6318638. Como este número es muy alto para la máquina virtual que tenemos vamos a realizar una muestreo aleatorio simple y nos quedaremos con 5000 filas. El resto se descartan.\n",
    "\n",
    "*Nota:*Para el muestreo usad la semilla 12345, de esta forma todos tendresmos exactamente los mismos resultados."
   ]
  },
  {
   "cell_type": "code",
   "execution_count": 5,
   "metadata": {},
   "outputs": [
    {
     "data": {
      "text/plain": [
       "      year      age_group_5_years    race_eth     first_degree_hx\n",
       " Min.   :2000   Min.   : 1.000    Min.   :1.000   Min.   :0.00   \n",
       " 1st Qu.:2002   1st Qu.: 5.000    1st Qu.:1.000   1st Qu.:0.00   \n",
       " Median :2004   Median : 7.000    Median :1.000   Median :0.00   \n",
       " Mean   :2004   Mean   : 7.173    Mean   :2.708   Mean   :0.81   \n",
       " 3rd Qu.:2007   3rd Qu.: 9.000    3rd Qu.:5.000   3rd Qu.:1.00   \n",
       " Max.   :2009   Max.   :13.000    Max.   :9.000   Max.   :9.00   \n",
       "  age_menarche   age_first_birth BIRADS_breast_density  current_hrt   \n",
       " Min.   :0.000   Min.   :0.000   Min.   :1.000         Min.   :0.000  \n",
       " 1st Qu.:1.000   1st Qu.:1.000   1st Qu.:2.000         1st Qu.:0.000  \n",
       " Median :2.000   Median :3.000   Median :3.000         Median :0.000  \n",
       " Mean   :4.455   Mean   :4.006   Mean   :3.886         Mean   :2.421  \n",
       " 3rd Qu.:9.000   3rd Qu.:9.000   3rd Qu.:4.000         3rd Qu.:9.000  \n",
       " Max.   :9.000   Max.   :9.000   Max.   :9.000         Max.   :9.000  \n",
       "    menopaus       bmi_group        biophx      breast_cancer_history\n",
       " Min.   :1.000   Min.   :1.00   Min.   :0.000   Min.   :0.000        \n",
       " 1st Qu.:2.000   1st Qu.:1.00   1st Qu.:0.000   1st Qu.:0.000        \n",
       " Median :2.000   Median :3.00   Median :0.000   Median :0.000        \n",
       " Mean   :2.655   Mean   :4.33   Mean   :0.881   Mean   :1.813        \n",
       " 3rd Qu.:2.000   3rd Qu.:9.00   3rd Qu.:1.000   3rd Qu.:1.000        \n",
       " Max.   :9.000   Max.   :9.00   Max.   :9.000   Max.   :9.000        \n",
       "     count         \n",
       " Min.   :   1.000  \n",
       " 1st Qu.:   1.000  \n",
       " Median :   1.000  \n",
       " Mean   :   5.459  \n",
       " 3rd Qu.:   3.000  \n",
       " Max.   :2442.000  "
      ]
     },
     "metadata": {},
     "output_type": "display_data"
    }
   ],
   "source": [
    "summary(riskFactor)"
   ]
  },
  {
   "cell_type": "markdown",
   "metadata": {},
   "source": [
    "Formatear el dataframe:\n",
    "* Cambiamos los *Desconocido* por NA en las columnas \"race_eth\", \"first_degree_hx\", \"age_menarche\", \"age_first_birth\", \"BIRADS_breast_density\", \"current_hrt\", \"menopaus\", \"bmi_group\", \"biophx\", \"breast_cancer_history\"\n",
    "* Convertimos a factores las columnas que vamos a necesitar"
   ]
  },
  {
   "cell_type": "code",
   "execution_count": 6,
   "metadata": {},
   "outputs": [],
   "source": [
    "#cambiar desconocidos por NA\n",
    "riskFactor$race_eth[riskFactor$race_eth == 9] <- NA\n",
    "riskFactor$first_degree_hx[riskFactor$first_degree_hx == 9] <- NA\n",
    "riskFactor$age_menarche[riskFactor$age_menarche == 9] <- NA\n",
    "riskFactor$age_first_birth[riskFactor$age_first_birth == 9] <- NA\n",
    "riskFactor$BIRADS_breast_density[riskFactor$BIRADS_breast_density == 9] <- NA\n",
    "riskFactor$current_hrt[riskFactor$current_hrt == 9] <- NA\n",
    "riskFactor$menopaus[riskFactor$menopaus == 9] <- NA\n",
    "riskFactor$bmi_group[riskFactor$bmi_group == 9] <- NA\n",
    "riskFactor$biophx[riskFactor$biophx == 9] <- NA\n",
    "riskFactor$breast_cancer_history[riskFactor$breast_cancer_history == 9] <- NA"
   ]
  },
  {
   "cell_type": "code",
   "execution_count": 7,
   "metadata": {},
   "outputs": [],
   "source": [
    "#se genera un campo númerico nuevo con la edad aproximada del grupo \n",
    "riskFactor$grupoEdad[riskFactor$age_group_5_years == 1] <- 25\n",
    "riskFactor$grupoEdad[riskFactor$age_group_5_years == 2] <- 32\n",
    "riskFactor$grupoEdad[riskFactor$age_group_5_years == 3] <- 37\n",
    "riskFactor$grupoEdad[riskFactor$age_group_5_years == 4] <- 42\n",
    "riskFactor$grupoEdad[riskFactor$age_group_5_years == 5] <- 47\n",
    "riskFactor$grupoEdad[riskFactor$age_group_5_years == 6] <- 52\n",
    "riskFactor$grupoEdad[riskFactor$age_group_5_years == 7] <- 57\n",
    "riskFactor$grupoEdad[riskFactor$age_group_5_years == 8] <- 62\n",
    "riskFactor$grupoEdad[riskFactor$age_group_5_years == 9] <- 67\n",
    "riskFactor$grupoEdad[riskFactor$age_group_5_years == 10] <- 72\n",
    "riskFactor$grupoEdad[riskFactor$age_group_5_years == 11] <- 77\n",
    "riskFactor$grupoEdad[riskFactor$age_group_5_years == 12] <- 82\n",
    "riskFactor$grupoEdad[riskFactor$age_group_5_years == 13] <- 87\n"
   ]
  },
  {
   "cell_type": "code",
   "execution_count": 8,
   "metadata": {},
   "outputs": [],
   "source": [
    "#poner datos en valores descriptivos y no en números\n",
    "\n",
    "#year_group_5_years\tEdad (años) en grupos de 5 años\t1 = Edad 18-29; 2 = Edad 30-34; \n",
    "# 3 = Edad 35-39; 4 = Edad 40-44; 5 = Edad 45-49; 6 = Edad 50-54; 7 = Edad 55-59; \n",
    "# 8 = Edad 60-64; 9 = Edad 65-69; 10 = Edad 70-74; 11 = Edad 75-79; 12 = Edad 80-84; 13 = Edad ≥85\n",
    "riskFactor$age_group_5_years[riskFactor$age_group_5_years == 1] <- \"18-29\"\n",
    "riskFactor$age_group_5_years[riskFactor$age_group_5_years == 2] <- \"30-34\"\n",
    "riskFactor$age_group_5_years[riskFactor$age_group_5_years == 3] <- \"35-39\"\n",
    "riskFactor$age_group_5_years[riskFactor$age_group_5_years == 4] <- \"40-44\"\n",
    "riskFactor$age_group_5_years[riskFactor$age_group_5_years == 5] <- \"45-49\"\n",
    "riskFactor$age_group_5_years[riskFactor$age_group_5_years == 6] <- \"50-54\"\n",
    "riskFactor$age_group_5_years[riskFactor$age_group_5_years == 7] <- \"55-59\"\n",
    "riskFactor$age_group_5_years[riskFactor$age_group_5_years == 8] <- \"60-64\"\n",
    "riskFactor$age_group_5_years[riskFactor$age_group_5_years == 9] <- \"65-69\"\n",
    "riskFactor$age_group_5_years[riskFactor$age_group_5_years == 10] <- \"70-74\"\n",
    "riskFactor$age_group_5_years[riskFactor$age_group_5_years == 11] <- \"75-79\"\n",
    "riskFactor$age_group_5_years[riskFactor$age_group_5_years == 12] <- \"80-84\"\n",
    "riskFactor$age_group_5_years[riskFactor$age_group_5_years == 13] <- \">85\"\n",
    "\n",
    "\n",
    "\n",
    "# race_eth      1 = Non-Hispanic white; 2 = Non-Hispanic black; \n",
    "# 3 = Asian/Pacific Islander; 4 = Native American; 5 = Hispanic; 6 = Other/mixed; \n",
    "# 9 = Desconocido\n",
    "riskFactor$race_eth[riskFactor$race_eth == 1] <- \"Non-Hispanic white\"\n",
    "riskFactor$race_eth[riskFactor$race_eth == 2] <- \"Non-Hispanic black\"\n",
    "riskFactor$race_eth[riskFactor$race_eth == 3] <- \"Asian/Pacific Islander\"\n",
    "riskFactor$race_eth[riskFactor$race_eth == 4] <- \"Native American\"\n",
    "riskFactor$race_eth[riskFactor$race_eth == 5] <- \"Hispanic\"\n",
    "riskFactor$race_eth[riskFactor$race_eth == 6] <- \"Other/mixed\"\n",
    "\n",
    "# first_degree_hx\t0 = No; 1 = Sí; 9 = Desconocido\n",
    "riskFactor$first_degree_hx[riskFactor$first_degree_hx == 0] <- \"No\"\n",
    "riskFactor$first_degree_hx[riskFactor$first_degree_hx == 1] <- \"Si\"\n",
    "\n",
    "# Edad_menarche\t0 = Edad ≥14; 1 = Edad 12-13; 2 = Edad <12; 9 = Desconocido\n",
    "riskFactor$age_menarche[riskFactor$age_menarche == 0] <- \">=14\"\n",
    "riskFactor$age_menarche[riskFactor$age_menarche == 1] <- \"12-13\"\n",
    "riskFactor$age_menarche[riskFactor$age_menarche == 2] <- \"<12\"\n",
    "\n",
    "#Edad_first_birth\tEdad (años) at first birth\t0 = Edad < 20; 1 = Edad 20-24; \n",
    "# 2 = Edad 25-29; 3 = Edad ≥30; 4 = Nulliparous; 9 = Desconocido\n",
    "riskFactor$age_first_birth[riskFactor$age_first_birth == 0] <- \"<20\"\n",
    "riskFactor$age_first_birth[riskFactor$age_first_birth == 1] <- \"20-24\"\n",
    "riskFactor$age_first_birth[riskFactor$age_first_birth == 2] <- \"25-29\"\n",
    "riskFactor$age_first_birth[riskFactor$age_first_birth == 3] <- \">30\"\n",
    "riskFactor$age_first_birth[riskFactor$age_first_birth == 4] <- \"Nulliparous\"\n",
    "\n",
    "#BIRADS_breast_density\t1 = Almost entirely fat; \n",
    "# 2 =Scattered fibroglandular densities; 3 = Heterogeneously dense; 4 = Extremely dense; 9 = Desconocido\n",
    "riskFactor$BIRADS_breast_density[riskFactor$BIRADS_breast_density == 1] <- \"Almost entirely fat\"\n",
    "riskFactor$BIRADS_breast_density[riskFactor$BIRADS_breast_density == 2] <- \"Scattered fibroglandular densities\"\n",
    "riskFactor$BIRADS_breast_density[riskFactor$BIRADS_breast_density == 3] <- \"Heterogeneously dense\"\n",
    "riskFactor$BIRADS_breast_density[riskFactor$BIRADS_breast_density == 4] <- \"Extremely dense\"\n",
    "\n",
    "#current_hrt\t0 = No; 1 = Sí; 9 = Desconocido\n",
    "riskFactor$current_hrt[riskFactor$current_hrt == 0] <- \"No\"\n",
    "riskFactor$current_hrt[riskFactor$current_hrt == 1] <- \"Si\"\n",
    "\n",
    "#menopaus\tMenopausal status\t1 = Pre- or peri-menopausal; 2 = Post-menopausal; \n",
    "# 3 = Surgical menopause; 9 = Desconocido\n",
    "riskFactor$menopaus[riskFactor$menopaus == 1] <- \"Pre or Peri\"\n",
    "riskFactor$menopaus[riskFactor$menopaus == 2] <- \"Post\"\n",
    "riskFactor$menopaus[riskFactor$menopaus == 3] <- \"Surgical\"\n",
    "\n",
    "#bmi_group\tBody mass index\t1 = 10-24.99; 2 = 25-29.99; 3 = 30-34.99; 4 = 35 or more; 9 = Desconocido\n",
    "riskFactor$bmi_group[riskFactor$bmi_group == 1] <- \"10-24.99\"\n",
    "riskFactor$bmi_group[riskFactor$bmi_group == 2] <- \"25-29.99\"\n",
    "riskFactor$bmi_group[riskFactor$bmi_group == 3] <- \"30-34.99\"\n",
    "riskFactor$bmi_group[riskFactor$bmi_group == 4] <- \">35\"\n",
    "\n",
    "#biophx\tBiopsia previa o aspiración\t0 = No; 1 = Sí; 9 = Desconocido\n",
    "riskFactor$biophx[riskFactor$biophx == 0] <- \"No\"\n",
    "riskFactor$biophx[riskFactor$biophx == 1] <- \"Si\"\n",
    "\n",
    "# breast_cancer_history\tCancer diagnosticado con anterioridad\t0 = No; 1 = Sí; 9 = Desconocido\n",
    "riskFactor$breast_cancer_history[riskFactor$breast_cancer_history == 0] <- \"No\"\n",
    "riskFactor$breast_cancer_history[riskFactor$breast_cancer_history == 1] <- \"Si\""
   ]
  },
  {
   "cell_type": "code",
   "execution_count": 9,
   "metadata": {},
   "outputs": [],
   "source": [
    "#convertir en factores\n",
    "riskFactor$age_group_5_years <- as.factor(riskFactor$age_group_5_years)\n",
    "riskFactor$race_eth <- as.factor(riskFactor$race_eth)\n",
    "riskFactor$first_degree_hx <- as.factor(riskFactor$first_degree_hx)\n",
    "riskFactor$age_menarche <- as.factor(riskFactor$age_menarche)\n",
    "riskFactor$age_first_birth <- as.factor(riskFactor$age_first_birth)\n",
    "riskFactor$BIRADS_breast_density<- as.factor(riskFactor$BIRADS_breast_density)\n",
    "riskFactor$current_hrt<- as.factor(riskFactor$current_hrt)\n",
    "riskFactor$menopaus<- as.factor(riskFactor$menopaus)\n",
    "riskFactor$bmi_group <- as.factor(riskFactor$bmi_group)\n",
    "riskFactor$biophx <- as.factor(riskFactor$biophx)\n",
    "riskFactor$breast_cancer_history <- as.factor(riskFactor$breast_cancer_history)"
   ]
  },
  {
   "cell_type": "code",
   "execution_count": 10,
   "metadata": {},
   "outputs": [
    {
     "data": {
      "text/plain": [
       "      year      age_group_5_years                   race_eth    first_degree_hx\n",
       " Min.   :2000   50-54  : 825      Asian/Pacific Islander: 500   No  :3390      \n",
       " 1st Qu.:2002   45-49  : 686      Hispanic              : 701   Si  :1305      \n",
       " Median :2004   55-59  : 577      Native American       : 103   NA's: 305      \n",
       " Mean   :2004   60-64  : 536      Non-Hispanic black    : 350                  \n",
       " 3rd Qu.:2007   40-44  : 533      Non-Hispanic white    :2733                  \n",
       " Max.   :2009   65-69  : 446      Other/mixed           : 275                  \n",
       "                (Other):1397      NA's                  : 338                  \n",
       " age_menarche    age_first_birth                        BIRADS_breast_density\n",
       " <12  : 864   <20        : 753   Almost entirely fat               : 595     \n",
       " >=14 : 836   >30        : 606   Extremely dense                   : 432     \n",
       " 12-13:1144   20-24      : 850   Heterogeneously dense             :1410     \n",
       " NA's :2156   25-29      : 562   Scattered fibroglandular densities:1456     \n",
       "              Nulliparous: 765   NA's                              :1107     \n",
       "              NA's       :1464                                               \n",
       "                                                                             \n",
       " current_hrt        menopaus       bmi_group     biophx    \n",
       " No  :2934   Post       :3201   >35     : 455   No  :2827  \n",
       " Si  : 811   Pre or Peri: 981   10-24.99:1266   Si  :1894  \n",
       " NA's:1255   Surgical   : 245   25-29.99:1019   NA's: 279  \n",
       "             NA's       : 573   30-34.99: 636              \n",
       "                                NA's    :1624              \n",
       "                                                           \n",
       "                                                           \n",
       " breast_cancer_history     count            grupoEdad    \n",
       " No  :3469             Min.   :   1.000   Min.   :25.00  \n",
       " Si  : 589             1st Qu.:   1.000   1st Qu.:47.00  \n",
       " NA's: 942             Median :   1.000   Median :57.00  \n",
       "                       Mean   :   5.459   Mean   :57.86  \n",
       "                       3rd Qu.:   3.000   3rd Qu.:67.00  \n",
       "                       Max.   :2442.000   Max.   :87.00  \n",
       "                                                         "
      ]
     },
     "metadata": {},
     "output_type": "display_data"
    }
   ],
   "source": [
    "summary(riskFactor)\n"
   ]
  },
  {
   "cell_type": "markdown",
   "metadata": {},
   "source": [
    "#### Edad y Antecedentes familiares"
   ]
  },
  {
   "cell_type": "markdown",
   "metadata": {},
   "source": [
    "Creamos una nueva columna con la edad estimada para un posterior análisis"
   ]
  },
  {
   "cell_type": "code",
   "execution_count": 11,
   "metadata": {},
   "outputs": [],
   "source": [
    "riskFactor$edadFactor <- as.factor(riskFactor$grupoEdad)"
   ]
  },
  {
   "cell_type": "markdown",
   "metadata": {},
   "source": [
    "Representa en un diagrama de cajas cómo varía la **edad de aparición del cancer** en función de si ha habido **antecedentes familiares** o no.\n",
    "Ayuda:\n",
    "- Hay que crear una nueva columna con la edad estimada de cada rango."
   ]
  },
  {
   "cell_type": "code",
   "execution_count": 12,
   "metadata": {},
   "outputs": [],
   "source": [
    "# cargamos libreria y opciones de visualizacion\n",
    "library(\"ggplot2\")\n",
    "options(repr.plot.height=4,repr.plot.width=6)"
   ]
  },
  {
   "cell_type": "code",
   "execution_count": 13,
   "metadata": {},
   "outputs": [
    {
     "data": {
      "image/png": "[encoded data removed]",
      "text/plain": [
       "plot without title"
      ]
     },
     "metadata": {},
     "output_type": "display_data"
    }
   ],
   "source": [
    "ggplot(data=riskFactor,aes(x=first_degree_hx, y=grupoEdad,color=first_degree_hx))+\n",
    "     geom_boxplot()"
   ]
  },
  {
   "cell_type": "markdown",
   "metadata": {},
   "source": [
    "¿Existe una diferencia estadística significativa entre la edad de aparición del cancer y si hay antecedentes familiares? ¿Que test usarías para comprobarlo?"
   ]
  },
  {
   "cell_type": "markdown",
   "metadata": {},
   "source": [
    "Para compararlo haria un test **t-student**, que compara las medias de dos grupos para saber si son iguales"
   ]
  },
  {
   "cell_type": "code",
   "execution_count": 14,
   "metadata": {},
   "outputs": [
    {
     "data": {
      "text/plain": [
       "\n",
       "\tWelch Two Sample t-test\n",
       "\n",
       "data:  conAntecedentes$grupoEdad and sinAntecedentes$grupoEdad\n",
       "t = 2.8015, df = 2312.6, p-value = 0.00513\n",
       "alternative hypothesis: true difference in means is not equal to 0\n",
       "95 percent confidence interval:\n",
       " 0.3720517 2.1082047\n",
       "sample estimates:\n",
       "mean of x mean of y \n",
       " 59.05517  57.81504 \n"
      ]
     },
     "metadata": {},
     "output_type": "display_data"
    }
   ],
   "source": [
    "#separamos los dos grupos\n",
    "conAntecedentes = subset(riskFactor, first_degree_hx == \"Si\")\n",
    "sinAntecedentes = subset(riskFactor, first_degree_hx == \"No\")\n",
    "\n",
    "\n",
    "t.test(conAntecedentes$grupoEdad, sinAntecedentes$grupoEdad)"
   ]
  },
  {
   "cell_type": "code",
   "execution_count": 15,
   "metadata": {},
   "outputs": [],
   "source": [
    "# el test nos dice que tenemos que rechazar la hipotesis nula y podemos \n",
    "# afirmar que provienen de distintas poblaciones, es decir\n",
    "# los antecedentes SI que tienen relacion con la edad de aparicion del cancer"
   ]
  },
  {
   "cell_type": "markdown",
   "metadata": {},
   "source": [
    "Dibuja la curva de densidad de probabilidad de cómo varía la edad de aparición del cancer en función de si ha habido antecedentes familiares o no."
   ]
  },
  {
   "cell_type": "code",
   "execution_count": 16,
   "metadata": {},
   "outputs": [
    {
     "data": {
      "image/png": "[encoded data removed]",
      "text/plain": [
       "plot without title"
      ]
     },
     "metadata": {},
     "output_type": "display_data"
    }
   ],
   "source": [
    "#curvas de densidad\n",
    "ggplot(riskFactor, aes(x=grupoEdad, fill=first_degree_hx)) +\n",
    "  geom_density(alpha=0.4)"
   ]
  },
  {
   "cell_type": "markdown",
   "metadata": {},
   "source": [
    "#### Edad y BIRADS"
   ]
  },
  {
   "cell_type": "markdown",
   "metadata": {},
   "source": [
    "Representa en un diagrama de cajas cómo varía la edad de aparición del cancer en función de la densidad del cancer (BIRADS)."
   ]
  },
  {
   "cell_type": "code",
   "execution_count": 17,
   "metadata": {},
   "outputs": [
    {
     "data": {
      "image/png": "[encoded data removed]",
      "text/plain": [
       "plot without title"
      ]
     },
     "metadata": {},
     "output_type": "display_data"
    }
   ],
   "source": [
    "ggplot(data=riskFactor,aes(x=BIRADS_breast_density, y=grupoEdad,color=BIRADS_breast_density))+\n",
    "     geom_boxplot()"
   ]
  },
  {
   "cell_type": "markdown",
   "metadata": {},
   "source": [
    "¿Existe una evidencia estadística significativa para decir que la edad en la que se detecta el cancer depende de la densidad del cancer (BIRADS)?\n",
    "\n",
    "¿Que test habría que aplicar?"
   ]
  },
  {
   "cell_type": "code",
   "execution_count": 18,
   "metadata": {},
   "outputs": [],
   "source": [
    "#Separamos el dataset en distintos subconjuntos\n",
    "\n",
    "casiGrasa = subset(riskFactor, BIRADS_breast_density == \"Almost entirely fat\")\n",
    "muyDenso = subset(riskFactor, BIRADS_breast_density == \"Extremely dense\")\n",
    "heteroDenso = subset(riskFactor, BIRADS_breast_density == \"Heterogeneously dense\")\n",
    "fibroDenso = subset(riskFactor, BIRADS_breast_density == \"Scattered fibroglandular densities\")\n",
    "\n"
   ]
  },
  {
   "cell_type": "markdown",
   "metadata": {},
   "source": [
    "Usando fuerza bruta, podriamos hacer 6 t-test entre cada uno de los datasets, lo cual es poco practico. La siguiente opción seria realizar un test ANOVA, lo que requiere que las muestras sigan una distribución normal, lo que tratamos de ver realizando el test de Shapiro."
   ]
  },
  {
   "cell_type": "code",
   "execution_count": 19,
   "metadata": {},
   "outputs": [
    {
     "data": {
      "text/plain": [
       "\n",
       "\tShapiro-Wilk normality test\n",
       "\n",
       "data:  casiGrasa$grupoEdad\n",
       "W = 0.97308, p-value = 5.386e-09\n"
      ]
     },
     "metadata": {},
     "output_type": "display_data"
    },
    {
     "data": {
      "text/plain": [
       "\n",
       "\tShapiro-Wilk normality test\n",
       "\n",
       "data:  muyDenso$grupoEdad\n",
       "W = 0.94893, p-value = 4.69e-11\n"
      ]
     },
     "metadata": {},
     "output_type": "display_data"
    },
    {
     "data": {
      "text/plain": [
       "\n",
       "\tShapiro-Wilk normality test\n",
       "\n",
       "data:  heteroDenso$grupoEdad\n",
       "W = 0.96217, p-value < 2.2e-16\n"
      ]
     },
     "metadata": {},
     "output_type": "display_data"
    },
    {
     "data": {
      "text/plain": [
       "\n",
       "\tShapiro-Wilk normality test\n",
       "\n",
       "data:  fibroDenso$grupoEdad\n",
       "W = 0.96836, p-value < 2.2e-16\n"
      ]
     },
     "metadata": {},
     "output_type": "display_data"
    }
   ],
   "source": [
    "#comprobamos la normalidad de las muestras\n",
    "shapiro.test(casiGrasa$grupoEdad)\n",
    "shapiro.test(muyDenso$grupoEdad)\n",
    "shapiro.test(heteroDenso$grupoEdad)\n",
    "shapiro.test(fibroDenso$grupoEdad)"
   ]
  },
  {
   "cell_type": "markdown",
   "metadata": {},
   "source": [
    "La distribución no es normal en ninguno de los casos, así que la siguiente opcion es realizar un test **Kruskal-Wallis**"
   ]
  },
  {
   "cell_type": "code",
   "execution_count": 20,
   "metadata": {},
   "outputs": [
    {
     "data": {
      "text/plain": [
       "\n",
       "\tKruskal-Wallis rank sum test\n",
       "\n",
       "data:  grupoEdad by BIRADS_breast_density\n",
       "Kruskal-Wallis chi-squared = 130.44, df = 3, p-value < 2.2e-16\n"
      ]
     },
     "metadata": {},
     "output_type": "display_data"
    }
   ],
   "source": [
    "kruskal.test(grupoEdad ~ BIRADS_breast_density, data = riskFactor)"
   ]
  },
  {
   "cell_type": "markdown",
   "metadata": {},
   "source": [
    "Como el p-value es menor que el nivel de significancia 0.05, podemos concluir que **HAY** diferencias entre los tipos de tumores y la edad de deteccion."
   ]
  },
  {
   "cell_type": "markdown",
   "metadata": {},
   "source": [
    "#### Tablas de contingencia: BIRADS"
   ]
  },
  {
   "cell_type": "code",
   "execution_count": 21,
   "metadata": {},
   "outputs": [],
   "source": [
    "#Creamos las distintas tablas de contingencia\n",
    "t <- table(riskFactor$BIRADS_breast_density)\n",
    "total <- t[1] + t[2] + t[3] +t[4] \n",
    "probabilidad <- matrix(c(t,t/total), nrow=4, \n",
    "                       dimnames=list(c(\"Fat\",\"Extremely Dense\",\"HeteroDense\",\"ScatterDense\"),\n",
    "                                     c(\"valor\", \"probabilidad\")))"
   ]
  },
  {
   "cell_type": "code",
   "execution_count": 22,
   "metadata": {},
   "outputs": [],
   "source": [
    "aT <- table(riskFactor$BIRADS_breast_density, riskFactor$first_degree_hx)\n",
    "antecTumor <- matrix(aT, nrow=4,dimnames=list(c(\"Fat\",\"Extremely Dense\",\"HeteroDense\",\"ScatterDense\"),\n",
    "                                              c(\"No\",\"Si\")))"
   ]
  },
  {
   "cell_type": "code",
   "execution_count": 23,
   "metadata": {},
   "outputs": [],
   "source": [
    "tR <- table(riskFactor$BIRADS_breast_density, riskFactor$race_eth)\n",
    "razaTumor <- matrix(tR, nrow=4, dimnames=list(c(\"Fat\",\"Extremely Dense\",\"HeteroDense\",\"ScatterDense\"),\n",
    "                                              c(\"Asian\",\"Hispanic\",\"Native\",\"Black\",\"White\",\"Other\")))"
   ]
  },
  {
   "cell_type": "code",
   "execution_count": 24,
   "metadata": {},
   "outputs": [
    {
     "data": {
      "text/html": [
       "<table>\n",
       "<thead><tr><th></th><th scope=col>valor</th><th scope=col>probabilidad</th></tr></thead>\n",
       "<tbody>\n",
       "\t<tr><th scope=row>Fat</th><td> 595     </td><td>0.1528384</td></tr>\n",
       "\t<tr><th scope=row>Extremely Dense</th><td> 432     </td><td>0.1109684</td></tr>\n",
       "\t<tr><th scope=row>HeteroDense</th><td>1410     </td><td>0.3621885</td></tr>\n",
       "\t<tr><th scope=row>ScatterDense</th><td>1456     </td><td>0.3740046</td></tr>\n",
       "</tbody>\n",
       "</table>\n"
      ],
      "text/latex": [
       "\\begin{tabular}{r|ll}\n",
       "  & valor & probabilidad\\\\\n",
       "\\hline\n",
       "\tFat &  595      & 0.1528384\\\\\n",
       "\tExtremely Dense &  432      & 0.1109684\\\\\n",
       "\tHeteroDense & 1410      & 0.3621885\\\\\n",
       "\tScatterDense & 1456      & 0.3740046\\\\\n",
       "\\end{tabular}\n"
      ],
      "text/markdown": [
       "\n",
       "| <!--/--> | valor | probabilidad |\n",
       "|---|---|---|\n",
       "| Fat |  595      | 0.1528384 |\n",
       "| Extremely Dense |  432      | 0.1109684 |\n",
       "| HeteroDense | 1410      | 0.3621885 |\n",
       "| ScatterDense | 1456      | 0.3740046 |\n",
       "\n"
      ],
      "text/plain": [
       "                valor probabilidad\n",
       "Fat              595  0.1528384   \n",
       "Extremely Dense  432  0.1109684   \n",
       "HeteroDense     1410  0.3621885   \n",
       "ScatterDense    1456  0.3740046   "
      ]
     },
     "metadata": {},
     "output_type": "display_data"
    },
    {
     "data": {
      "text/html": [
       "<table>\n",
       "<thead><tr><th></th><th scope=col>No</th><th scope=col>Si</th></tr></thead>\n",
       "<tbody>\n",
       "\t<tr><th scope=row>Fat</th><td>431</td><td>135</td></tr>\n",
       "\t<tr><th scope=row>Extremely Dense</th><td>303</td><td>104</td></tr>\n",
       "\t<tr><th scope=row>HeteroDense</th><td>938</td><td>392</td></tr>\n",
       "\t<tr><th scope=row>ScatterDense</th><td>985</td><td>396</td></tr>\n",
       "</tbody>\n",
       "</table>\n"
      ],
      "text/latex": [
       "\\begin{tabular}{r|ll}\n",
       "  & No & Si\\\\\n",
       "\\hline\n",
       "\tFat & 431 & 135\\\\\n",
       "\tExtremely Dense & 303 & 104\\\\\n",
       "\tHeteroDense & 938 & 392\\\\\n",
       "\tScatterDense & 985 & 396\\\\\n",
       "\\end{tabular}\n"
      ],
      "text/markdown": [
       "\n",
       "| <!--/--> | No | Si |\n",
       "|---|---|---|\n",
       "| Fat | 431 | 135 |\n",
       "| Extremely Dense | 303 | 104 |\n",
       "| HeteroDense | 938 | 392 |\n",
       "| ScatterDense | 985 | 396 |\n",
       "\n"
      ],
      "text/plain": [
       "                No  Si \n",
       "Fat             431 135\n",
       "Extremely Dense 303 104\n",
       "HeteroDense     938 392\n",
       "ScatterDense    985 396"
      ]
     },
     "metadata": {},
     "output_type": "display_data"
    },
    {
     "data": {
      "text/html": [
       "<table>\n",
       "<thead><tr><th></th><th scope=col>Asian</th><th scope=col>Hispanic</th><th scope=col>Native</th><th scope=col>Black</th><th scope=col>White</th><th scope=col>Other</th></tr></thead>\n",
       "<tbody>\n",
       "\t<tr><th scope=row>Fat</th><td> 24</td><td> 87</td><td>18 </td><td> 51</td><td>355</td><td>23 </td></tr>\n",
       "\t<tr><th scope=row>Extremely Dense</th><td> 53</td><td> 44</td><td> 4 </td><td> 29</td><td>249</td><td>26 </td></tr>\n",
       "\t<tr><th scope=row>HeteroDense</th><td>160</td><td>186</td><td>18 </td><td> 84</td><td>780</td><td>84 </td></tr>\n",
       "\t<tr><th scope=row>ScatterDense</th><td>103</td><td>225</td><td>30 </td><td>109</td><td>794</td><td>88 </td></tr>\n",
       "</tbody>\n",
       "</table>\n"
      ],
      "text/latex": [
       "\\begin{tabular}{r|llllll}\n",
       "  & Asian & Hispanic & Native & Black & White & Other\\\\\n",
       "\\hline\n",
       "\tFat &  24 &  87 & 18  &  51 & 355 & 23 \\\\\n",
       "\tExtremely Dense &  53 &  44 &  4  &  29 & 249 & 26 \\\\\n",
       "\tHeteroDense & 160 & 186 & 18  &  84 & 780 & 84 \\\\\n",
       "\tScatterDense & 103 & 225 & 30  & 109 & 794 & 88 \\\\\n",
       "\\end{tabular}\n"
      ],
      "text/markdown": [
       "\n",
       "| <!--/--> | Asian | Hispanic | Native | Black | White | Other |\n",
       "|---|---|---|---|---|---|---|\n",
       "| Fat |  24 |  87 | 18  |  51 | 355 | 23  |\n",
       "| Extremely Dense |  53 |  44 |  4  |  29 | 249 | 26  |\n",
       "| HeteroDense | 160 | 186 | 18  |  84 | 780 | 84  |\n",
       "| ScatterDense | 103 | 225 | 30  | 109 | 794 | 88  |\n",
       "\n"
      ],
      "text/plain": [
       "                Asian Hispanic Native Black White Other\n",
       "Fat              24    87      18      51   355   23   \n",
       "Extremely Dense  53    44       4      29   249   26   \n",
       "HeteroDense     160   186      18      84   780   84   \n",
       "ScatterDense    103   225      30     109   794   88   "
      ]
     },
     "metadata": {},
     "output_type": "display_data"
    }
   ],
   "source": [
    "probabilidad\n",
    "antecTumor\n",
    "razaTumor"
   ]
  },
  {
   "cell_type": "markdown",
   "metadata": {},
   "source": [
    "¿Todos los  tipos de cancer (BIRADS) son igual de probables? ¿Con que test lo comprobarías?"
   ]
  },
  {
   "cell_type": "markdown",
   "metadata": {},
   "source": [
    "No, de la tabla de probabilidad se observa que los canceres HeteroDensos y los ScatterDense son mas probables que los ExtremlyDense o los de MostlyFat. Para comprobarlo usamos un test de **Homogeneidad**"
   ]
  },
  {
   "cell_type": "code",
   "execution_count": 25,
   "metadata": {},
   "outputs": [
    {
     "data": {
      "text/plain": [
       "\n",
       "\tChi-squared test for given probabilities\n",
       "\n",
       "data:  probabilidad[, 1]\n",
       "X-squared = 883.46, df = 3, p-value < 2.2e-16\n"
      ]
     },
     "metadata": {},
     "output_type": "display_data"
    }
   ],
   "source": [
    "chisq.test(probabilidad[,1])"
   ]
  },
  {
   "cell_type": "markdown",
   "metadata": {},
   "source": [
    "El p-value para aceptar la hipótesis nula es muy bajo, así que podemos descartar $H_0$ y suponer que no todos los canceres son equiprobables."
   ]
  },
  {
   "cell_type": "markdown",
   "metadata": {},
   "source": [
    "¿Cual es el tipo de cancer (BIRADS) más común? ¿Con qué proporción?"
   ]
  },
  {
   "cell_type": "markdown",
   "metadata": {},
   "source": [
    "El más comun es el *\"Scattered fibroglandular densities\"* seguido de *\"Heterogeneously dense\"*  con una proporcion del 37,4% y 36,2% respectivamente."
   ]
  },
  {
   "cell_type": "markdown",
   "metadata": {},
   "source": [
    "¿Depende el tipo de cancer (BIRADS) de si ha habido o no antecedentes familiares?"
   ]
  },
  {
   "cell_type": "code",
   "execution_count": 26,
   "metadata": {},
   "outputs": [
    {
     "data": {
      "text/plain": [
       "\n",
       "\tPearson's Chi-squared test\n",
       "\n",
       "data:  antecTumor\n",
       "X-squared = 7.7787, df = 3, p-value = 0.05081\n"
      ]
     },
     "metadata": {},
     "output_type": "display_data"
    }
   ],
   "source": [
    "chisq.test(antecTumor)"
   ]
  },
  {
   "cell_type": "markdown",
   "metadata": {},
   "source": [
    "El p-value para aceptar la hipótesis nula es bajo, así que con un 95% podemos descartar  𝐻0  y suponer que **SI** dependen de los antecedentes familiares. Si quisiesemos un nivel mayor a un 95% no lo podriamos asegurar."
   ]
  },
  {
   "cell_type": "markdown",
   "metadata": {},
   "source": [
    "¿Depende el tipo de cancer BIRADS del grupo étnico?"
   ]
  },
  {
   "cell_type": "code",
   "execution_count": 27,
   "metadata": {},
   "outputs": [
    {
     "data": {
      "text/plain": [
       "\n",
       "\tPearson's Chi-squared test\n",
       "\n",
       "data:  razaTumor\n",
       "X-squared = 64.765, df = 15, p-value = 3.756e-08\n"
      ]
     },
     "metadata": {},
     "output_type": "display_data"
    }
   ],
   "source": [
    "chisq.test(razaTumor)"
   ]
  },
  {
   "cell_type": "markdown",
   "metadata": {},
   "source": [
    "El p-value para aceptar la hipótesis nula es muy bajo, así que podemos descartar  𝐻0  y suponer que no todos los canceres son equiprobables. Y **SI** dependen del gripo etnico"
   ]
  },
  {
   "cell_type": "markdown",
   "metadata": {},
   "source": [
    "¿Cual es la probabilidad (con su margen de error del 95%) de que un *Native American* tenga un cancer de tipo *Almost entirely fat*?\n",
    "\n",
    "*Aviso*: Cuidado con los NA"
   ]
  },
  {
   "cell_type": "code",
   "execution_count": 28,
   "metadata": {},
   "outputs": [
    {
     "data": {
      "text/html": [
       "<table>\n",
       "<thead><tr><th></th><th scope=col>Asian</th><th scope=col>Hispanic</th><th scope=col>Native</th><th scope=col>Black</th><th scope=col>White</th><th scope=col>Other</th><th scope=col>Total</th></tr></thead>\n",
       "<tbody>\n",
       "\t<tr><th scope=row>Fat</th><td> 24 </td><td> 87 </td><td>18  </td><td> 51 </td><td> 355</td><td> 23 </td><td> 558</td></tr>\n",
       "\t<tr><th scope=row>Extremely Dense</th><td> 53 </td><td> 44 </td><td> 4  </td><td> 29 </td><td> 249</td><td> 26 </td><td> 405</td></tr>\n",
       "\t<tr><th scope=row>HeteroDense</th><td>160 </td><td>186 </td><td>18  </td><td> 84 </td><td> 780</td><td> 84 </td><td>1312</td></tr>\n",
       "\t<tr><th scope=row>ScatterDense</th><td>103 </td><td>225 </td><td>30  </td><td>109 </td><td> 794</td><td> 88 </td><td>1349</td></tr>\n",
       "\t<tr><th scope=row>Total</th><td>340 </td><td>542 </td><td>70  </td><td>273 </td><td>2178</td><td>221 </td><td>3624</td></tr>\n",
       "</tbody>\n",
       "</table>\n"
      ],
      "text/latex": [
       "\\begin{tabular}{r|lllllll}\n",
       "  & Asian & Hispanic & Native & Black & White & Other & Total\\\\\n",
       "\\hline\n",
       "\tFat &  24  &  87  & 18   &  51  &  355 &  23  &  558\\\\\n",
       "\tExtremely Dense &  53  &  44  &  4   &  29  &  249 &  26  &  405\\\\\n",
       "\tHeteroDense & 160  & 186  & 18   &  84  &  780 &  84  & 1312\\\\\n",
       "\tScatterDense & 103  & 225  & 30   & 109  &  794 &  88  & 1349\\\\\n",
       "\tTotal & 340  & 542  & 70   & 273  & 2178 & 221  & 3624\\\\\n",
       "\\end{tabular}\n"
      ],
      "text/markdown": [
       "\n",
       "| <!--/--> | Asian | Hispanic | Native | Black | White | Other | Total |\n",
       "|---|---|---|---|---|---|---|---|\n",
       "| Fat |  24  |  87  | 18   |  51  |  355 |  23  |  558 |\n",
       "| Extremely Dense |  53  |  44  |  4   |  29  |  249 |  26  |  405 |\n",
       "| HeteroDense | 160  | 186  | 18   |  84  |  780 |  84  | 1312 |\n",
       "| ScatterDense | 103  | 225  | 30   | 109  |  794 |  88  | 1349 |\n",
       "| Total | 340  | 542  | 70   | 273  | 2178 | 221  | 3624 |\n",
       "\n"
      ],
      "text/plain": [
       "                Asian Hispanic Native Black White Other Total\n",
       "Fat              24    87      18      51    355   23    558 \n",
       "Extremely Dense  53    44       4      29    249   26    405 \n",
       "HeteroDense     160   186      18      84    780   84   1312 \n",
       "ScatterDense    103   225      30     109    794   88   1349 \n",
       "Total           340   542      70     273   2178  221   3624 "
      ]
     },
     "metadata": {},
     "output_type": "display_data"
    }
   ],
   "source": [
    "razaTumorTotal <- addmargins(razaTumor, FUN = list(Total = sum), quiet = TRUE)\n",
    "razaTumorTotal"
   ]
  },
  {
   "cell_type": "code",
   "execution_count": 29,
   "metadata": {},
   "outputs": [
    {
     "data": {
      "text/html": [
       "<span style=white-space:pre-wrap>'La probabilidad de que si un Nativo Americano tiene cancer de pecho este sea de tipo `Almost entirely Fat` es de  25.71 %'</span>"
      ],
      "text/latex": [
       "'La probabilidad de que si un Nativo Americano tiene cancer de pecho este sea de tipo `Almost entirely Fat` es de  25.71 \\%'"
      ],
      "text/markdown": [
       "<span style=white-space:pre-wrap>'La probabilidad de que si un Nativo Americano tiene cancer de pecho este sea de tipo `Almost entirely Fat` es de  25.71 %'</span>"
      ],
      "text/plain": [
       "[1] \"La probabilidad de que si un Nativo Americano tiene cancer de pecho este sea de tipo `Almost entirely Fat` es de  25.71 %\""
      ]
     },
     "metadata": {},
     "output_type": "display_data"
    }
   ],
   "source": [
    "pNativeFat <- razaTumorTotal[\"Fat\",\"Native\"] / razaTumorTotal[\"Total\",\"Native\"]\n",
    "\n",
    "paste(\"La probabilidad de que si un Nativo Americano tiene cancer de pecho este sea de tipo `Almost entirely Fat` es de \",\n",
    "      round(pNativeFat,4)*100,\"%\")"
   ]
  },
  {
   "cell_type": "markdown",
   "metadata": {},
   "source": [
    "Ahora, y simplemente por curiosidad voy a intentar calcular la probabilidad de que si lo que se ha diagnosticado es un cancer tipo Fat, el paciente sea Nativo Americano.\n",
    "\n",
    "Aplicando Bayes:\n",
    "\n",
    "\\\\[\n",
    "P(Fat|Native American)=\\frac{P(Native American|Fat)·P_{apriori}(Fat)}{P(Native American)}\n",
    "\\\\]\n"
   ]
  },
  {
   "cell_type": "code",
   "execution_count": 30,
   "metadata": {},
   "outputs": [
    {
     "data": {
      "text/html": [
       "<table>\n",
       "<thead><tr><th></th><th scope=col>Asian</th><th scope=col>Hispanic</th><th scope=col>Native</th><th scope=col>Black</th><th scope=col>White</th><th scope=col>Other</th><th scope=col>Total</th></tr></thead>\n",
       "<tbody>\n",
       "\t<tr><th scope=row>Fat</th><td>0.006622517</td><td>0.02400662 </td><td>0.004966887</td><td>0.014072848</td><td>0.09795806 </td><td>0.006346578</td><td>0.1539735  </td></tr>\n",
       "\t<tr><th scope=row>Extremely Dense</th><td>0.014624724</td><td>0.01214128 </td><td>0.001103753</td><td>0.008002208</td><td>0.06870861 </td><td>0.007174393</td><td>0.1117550  </td></tr>\n",
       "\t<tr><th scope=row>HeteroDense</th><td>0.044150110</td><td>0.05132450 </td><td>0.004966887</td><td>0.023178808</td><td>0.21523179 </td><td>0.023178808</td><td>0.3620309  </td></tr>\n",
       "\t<tr><th scope=row>ScatterDense</th><td>0.028421634</td><td>0.06208609 </td><td>0.008278146</td><td>0.030077263</td><td>0.21909492 </td><td>0.024282561</td><td>0.3722406  </td></tr>\n",
       "\t<tr><th scope=row>Total</th><td>0.093818985</td><td>0.14955850 </td><td>0.019315673</td><td>0.075331126</td><td>0.60099338 </td><td>0.060982340</td><td>1.0000000  </td></tr>\n",
       "</tbody>\n",
       "</table>\n"
      ],
      "text/latex": [
       "\\begin{tabular}{r|lllllll}\n",
       "  & Asian & Hispanic & Native & Black & White & Other & Total\\\\\n",
       "\\hline\n",
       "\tFat & 0.006622517 & 0.02400662  & 0.004966887 & 0.014072848 & 0.09795806  & 0.006346578 & 0.1539735  \\\\\n",
       "\tExtremely Dense & 0.014624724 & 0.01214128  & 0.001103753 & 0.008002208 & 0.06870861  & 0.007174393 & 0.1117550  \\\\\n",
       "\tHeteroDense & 0.044150110 & 0.05132450  & 0.004966887 & 0.023178808 & 0.21523179  & 0.023178808 & 0.3620309  \\\\\n",
       "\tScatterDense & 0.028421634 & 0.06208609  & 0.008278146 & 0.030077263 & 0.21909492  & 0.024282561 & 0.3722406  \\\\\n",
       "\tTotal & 0.093818985 & 0.14955850  & 0.019315673 & 0.075331126 & 0.60099338  & 0.060982340 & 1.0000000  \\\\\n",
       "\\end{tabular}\n"
      ],
      "text/markdown": [
       "\n",
       "| <!--/--> | Asian | Hispanic | Native | Black | White | Other | Total |\n",
       "|---|---|---|---|---|---|---|---|\n",
       "| Fat | 0.006622517 | 0.02400662  | 0.004966887 | 0.014072848 | 0.09795806  | 0.006346578 | 0.1539735   |\n",
       "| Extremely Dense | 0.014624724 | 0.01214128  | 0.001103753 | 0.008002208 | 0.06870861  | 0.007174393 | 0.1117550   |\n",
       "| HeteroDense | 0.044150110 | 0.05132450  | 0.004966887 | 0.023178808 | 0.21523179  | 0.023178808 | 0.3620309   |\n",
       "| ScatterDense | 0.028421634 | 0.06208609  | 0.008278146 | 0.030077263 | 0.21909492  | 0.024282561 | 0.3722406   |\n",
       "| Total | 0.093818985 | 0.14955850  | 0.019315673 | 0.075331126 | 0.60099338  | 0.060982340 | 1.0000000   |\n",
       "\n"
      ],
      "text/plain": [
       "                Asian       Hispanic   Native      Black       White     \n",
       "Fat             0.006622517 0.02400662 0.004966887 0.014072848 0.09795806\n",
       "Extremely Dense 0.014624724 0.01214128 0.001103753 0.008002208 0.06870861\n",
       "HeteroDense     0.044150110 0.05132450 0.004966887 0.023178808 0.21523179\n",
       "ScatterDense    0.028421634 0.06208609 0.008278146 0.030077263 0.21909492\n",
       "Total           0.093818985 0.14955850 0.019315673 0.075331126 0.60099338\n",
       "                Other       Total    \n",
       "Fat             0.006346578 0.1539735\n",
       "Extremely Dense 0.007174393 0.1117550\n",
       "HeteroDense     0.023178808 0.3620309\n",
       "ScatterDense    0.024282561 0.3722406\n",
       "Total           0.060982340 1.0000000"
      ]
     },
     "metadata": {},
     "output_type": "display_data"
    }
   ],
   "source": [
    "razaTumorProb <- prop.table(razaTumor)\n",
    "razaTumorProbTotal <- addmargins(razaTumorProb, FUN = list(Total = sum), quiet = TRUE)\n",
    "razaTumorProbTotal"
   ]
  },
  {
   "cell_type": "code",
   "execution_count": 31,
   "metadata": {},
   "outputs": [],
   "source": [
    "pDeFat <- razaTumorProbTotal[\"Fat\",\"Total\"]\n",
    "pDeNative <- razaTumorProbTotal [\"Total\",\"Native\"]\n",
    "pDeNativeFat <- razaTumorProbTotal[\"Fat\",\"Native\"]\n"
   ]
  },
  {
   "cell_type": "code",
   "execution_count": 32,
   "metadata": {},
   "outputs": [
    {
     "data": {
      "text/html": [
       "'Si el cancer detectado es de tipo Fat, la probabilidad de que el paciente sea un Nativo Americano es aproximadamente 3.96 %'"
      ],
      "text/latex": [
       "'Si el cancer detectado es de tipo Fat, la probabilidad de que el paciente sea un Nativo Americano es aproximadamente 3.96 \\%'"
      ],
      "text/markdown": [
       "'Si el cancer detectado es de tipo Fat, la probabilidad de que el paciente sea un Nativo Americano es aproximadamente 3.96 %'"
      ],
      "text/plain": [
       "[1] \"Si el cancer detectado es de tipo Fat, la probabilidad de que el paciente sea un Nativo Americano es aproximadamente 3.96 %\""
      ]
     },
     "metadata": {},
     "output_type": "display_data"
    }
   ],
   "source": [
    "res <- pDeNativeFat* pDeFat / pDeNative\n",
    "paste(\"Si el cancer detectado es de tipo Fat, la probabilidad de que el paciente sea un Nativo Americano es aproximadamente\",\n",
    "      round(res,4)*100,\"%\")"
   ]
  }
 ],
 "metadata": {
  "kernelspec": {
   "display_name": "R",
   "language": "R",
   "name": "ir"
  },
  "language_info": {
   "codemirror_mode": "r",
   "file_extension": ".r",
   "mimetype": "text/x-r-source",
   "name": "R",
   "pygments_lexer": "r",
   "version": "3.4.4"
  }
 },
 "nbformat": 4,
 "nbformat_minor": 1
}
